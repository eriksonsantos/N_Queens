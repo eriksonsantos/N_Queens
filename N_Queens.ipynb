{
 "cells": [
  {
   "cell_type": "code",
   "execution_count": 5,
   "id": "c1a58632",
   "metadata": {},
   "outputs": [],
   "source": [
    "import random as rd\n",
    "import numpy as np"
   ]
  },
  {
   "cell_type": "markdown",
   "id": "490bbc2b",
   "metadata": {},
   "source": [
    "### Nome:  Erikson Pereira Santos\n",
    "###  Matricula: 2018056551\n",
    "\n",
    "\n",
    "Esse trabalho têm como intuito de resolver o problema de um algoritmo evolucionário para solucionar o problema das N Rainhas, na qual deverá posicionar todas as rainhas de um tabeleiro NxN sem estas estiverem em xeques entre si"
   ]
  },
  {
   "cell_type": "code",
   "execution_count": 6,
   "id": "0eb06c22",
   "metadata": {},
   "outputs": [],
   "source": [
    "# Essa função têm como intuito repartir uma amostra em duas, obtendo os vetores através de uma região de corte\n",
    "\n",
    "def split_list(lst, n): \n",
    "    try:\n",
    "        lst = np.array(lst)\n",
    "        \n",
    "        if n > lst.shape[0]:\n",
    "            n = lst.shape[0] -1\n",
    "        result1 = []\n",
    "        result2 = []\n",
    "        for i in range(0,n):\n",
    "            result1.append(lst[i])\n",
    "\n",
    "        for i in range(n, np.array(lst).shape[0]):\n",
    "            result2.append(lst[i])\n",
    "\n",
    "        return (result1,result2)\n",
    "    except:\n",
    "        print(lst,n)\n",
    "        \n",
    "#Essa função têm como intuito printar o tabuleiro que estará as rainhas        \n",
    "def printSolution(solution):\n",
    "    print(\"Solução\")\n",
    "    boardSize = solution.shape[0]\n",
    "    for i in range(boardSize):\n",
    "        for k in range(boardSize*4):\n",
    "            print(\"_\", end = \"\")\n",
    "        print(\"_\")\n",
    "        for j in range(boardSize):\n",
    "            print(\"|\", end = \"\")\n",
    "            if solution[i] == j:\n",
    "                print(\" Q \", end = \"\")\n",
    "            else:\n",
    "                print(\"   \", end = \"\"),\n",
    "        print(\"|\")\n",
    "\n",
    "    for k in range(boardSize*4):\n",
    "        print(\"_\", end = \"\")\n",
    "    print(\"_\") \n",
    "        \n"
   ]
  },
  {
   "cell_type": "code",
   "execution_count": 146,
   "id": "d054ede0",
   "metadata": {},
   "outputs": [],
   "source": [
    "class N_Queens:\n",
    "    \n",
    "    def __init__(self, _crossover_rate = 1, _mutation_rate=0.8):\n",
    "        self.crossover_rate = _crossover_rate\n",
    "        self.mutation_rate = _mutation_rate\n",
    "        \n",
    "    \n",
    "    def init_population(self,_mu:int = 20, n:int = 8):\n",
    "        population = []\n",
    "        for i in range (_mu):\n",
    "            population.append(rd.sample(range(n), n))\n",
    "        return population\n",
    "    \n",
    "    def xeques(self,solution):\n",
    "        solution = np.array(solution)\n",
    "        xeques = 0\n",
    "        for i in range(0,len(solution)):\n",
    "            for j in range(0,len(solution)):\n",
    "                if i!=j:\n",
    "                    if i-solution[i] == j-solution[j] or i+solution[i] == j+solution[j]:\n",
    "                        xeques+=1\n",
    "        return xeques\n",
    "    \n",
    "    \n",
    "    #Essa função têm como intuito fazer uma pequena mutação nos valores, ou seja pegar uma posição aleatoria\n",
    "    #da amostra e mudar seu valor\n",
    "    \n",
    "    def checkValueHasSolution(self, solution, value):\n",
    "        equal = 0\n",
    "        for aux in solution:\n",
    "            if aux == value:\n",
    "                equal = 1\n",
    "                \n",
    "                \n",
    "        return equal\n",
    "            \n",
    "    \n",
    "    def mutation(self, solution, probMut):\n",
    "        solution = np.array(solution)\n",
    "#         print('Antes',solution)\n",
    "        \n",
    "        for value in solution:\n",
    "            prob = rd.random()\n",
    "            \n",
    "            if prob > probMut:\n",
    "                qtd = value.shape[0]\n",
    "                pos = np.random.randint(0, qtd)\n",
    "          \n",
    "                randomPos= np.random.randint(0, qtd)  \n",
    "                \n",
    "                aux = value[pos]\n",
    "                value[pos] = value[randomPos]\n",
    "                value[randomPos] = aux\n",
    "                \n",
    "                \n",
    "#         print('Depois',solution)\n",
    "        \n",
    "        \n",
    "        return solution\n",
    "    \n",
    "    \n",
    "    # Essa função têm como intuito gerar amostras descendentes de outras, pegando partes de duas amostras\n",
    "    # para gerar seus filhos\n",
    "    \n",
    "    def reprodution(self, solution):\n",
    "        value = np.array(solution)\n",
    "        \n",
    "        output = []\n",
    "        for i in range(0,value.shape[0],2):\n",
    "            value1 = value[i]\n",
    "            \n",
    "            value2 = value[i+1]\n",
    "               \n",
    "            size1 = np.array(value1).shape[0]\n",
    "            size2 = np.array(value1).shape[0]\n",
    "            \n",
    "            corte = np.random.randint(0, np.array(value1).shape[0])\n",
    "            \n",
    "            result1 = split_list(value1, corte)\n",
    "            \n",
    "            son1 = result1[0]\n",
    "            \n",
    "            result2 = split_list(value2, corte)\n",
    "            son2 = result2[0]\n",
    "            \n",
    "            \n",
    "            for i in result1[1]:\n",
    "                equal = self.checkValueHasSolution(son1, i)\n",
    "                if equal == 0:\n",
    "                    son1.append(i)\n",
    "                    \n",
    "            for i in result2[1]:\n",
    "                equal = self.checkValueHasSolution(son2, i)\n",
    "                if equal == 0:\n",
    "                    son2.append(i)\n",
    "                    \n",
    "            \n",
    "            while(np.array(son1).shape[0] < size1):\n",
    "                for i in range(size1):\n",
    "                    equal = self.checkValueHasSolution(son1, i)\n",
    "                    if equal == 0:\n",
    "                        son1.append(i)\n",
    "                        break\n",
    "                        \n",
    "            while(np.array(son2).shape[0] < size2):\n",
    "                for i in range(size2):\n",
    "                    equal = self.checkValueHasSolution(son2, i)\n",
    "                    if equal == 0:\n",
    "                        son2.append(i)\n",
    "                        break\n",
    "                    \n",
    "        \n",
    "           \n",
    "                    \n",
    "                    \n",
    "            output.append(son1)\n",
    "            output.append(son2)\n",
    "                    \n",
    "            \n",
    "        return output  \n",
    "    \n",
    "    # Função responsavel por pegar os pais que têm o menor valor de xeque\n",
    "    \n",
    "    def selectParents(self, solution):\n",
    "        solution = np.array(solution)\n",
    "        size = solution.shape[0]\n",
    "        \n",
    "        parents = []\n",
    "        \n",
    "        xeques = self.getXequesBySolution(solution)\n",
    "        \n",
    "        pos = np.argmin(np.array(xeques))\n",
    "        parents.append(solution[pos])\n",
    "        \n",
    "#         print(solution,'\\n')\n",
    "        solution = np.delete(np.array(solution), pos,axis= 0)\n",
    "        xeques = np.delete(np.array(xeques),pos, axis = 0)\n",
    "        \n",
    "#         print(solution,'\\n')\n",
    "        \n",
    "        \n",
    "        pos = np.argmin(np.array(xeques))\n",
    "        parents.append(solution[pos])\n",
    "        \n",
    "        return xeques,parents\n",
    "    \n",
    "    # FUnção responsavel por obter a quantidade de xeque para cada arranjo de rainhas no tabuleiro\n",
    "    \n",
    "    def getXequesBySolution(self, solution):\n",
    "        solution = np.array(solution)\n",
    "        xeques = []\n",
    "        \n",
    "        for value in solution:\n",
    "            xeques.append(self.xeques(value))\n",
    "            \n",
    "        return xeques\n",
    "    \n",
    "    # Função responsavel por eliminar as amostras ruins (maior quantidade de xeque)\n",
    "    \n",
    "    def selectBest(self, solution):\n",
    "        solution = np.array(solution)\n",
    "        xeques = self.getXequesBySolution(solution)\n",
    "        \n",
    "        pos = np.argmax(np.array(xeques))\n",
    "        solution = np.delete(np.array(solution), pos, axis=0)\n",
    "        xeques = np.delete(np.array(xeques), pos, axis = 0)\n",
    "        \n",
    "        pos = np.argmax(np.array(xeques))\n",
    "        solution = np.delete(np.array(solution), pos, axis = 0)\n",
    "        \n",
    "        \n",
    "        return solution\n",
    "        \n",
    "    \n",
    "    def evolutionaryAlgorith(self,solution,repeat, probMut):\n",
    "        \n",
    "        solution = np.array(solution)\n",
    "        \n",
    "        xeques,parents = self.selectParents(solution)\n",
    "\n",
    "        children = self.reprodution(parents)\n",
    "        children = self.mutation(children, probMut)\n",
    "#         print(np.array(children).shape)\n",
    "\n",
    "        aux = np.ndarray.tolist(solution)\n",
    "        aux.append( children[0])\n",
    "        aux.append( children[1])\n",
    "\n",
    "        solution = np.array(aux)\n",
    "\n",
    "        solution = self.selectBest(solution)\n",
    "        \n",
    "#         if repeat > 5:\n",
    "#             solution = self.mutation(solution, probMut)\n",
    "        \n",
    "    \n",
    "        \n",
    "        return xeques,solution\n",
    "    \n",
    "        \n",
    "    \n",
    "    "
   ]
  },
  {
   "cell_type": "markdown",
   "id": "73095380",
   "metadata": {},
   "source": [
    "## Tabuleiro de 8x8"
   ]
  },
  {
   "cell_type": "code",
   "execution_count": 147,
   "id": "0173dfa9",
   "metadata": {},
   "outputs": [],
   "source": [
    "meanXeques = []\n",
    "casa = N_Queens()\n",
    "\n",
    "pop = casa.init_population(12, 8)\n",
    "repeat = 0\n",
    "probMut = 0.4\n",
    "\n",
    "xeques, result=casa.evolutionaryAlgorith(np.array(pop),repeat, probMut)\n",
    "oldmean = round(np.array(xeques).mean(),1)\n",
    "i = 0\n",
    "\n",
    "\n",
    "while True:\n",
    "    [xeques, result]=casa.evolutionaryAlgorith(np.array(result), repeat, probMut)\n",
    "    mean = round(np.array(xeques).mean(),1)\n",
    "    meanXeques.append(mean)\n",
    "    \n",
    "    if oldmean != mean:\n",
    "        oldmean = mean\n",
    "        repeat = 0\n",
    "    else:\n",
    "        repeat = repeat + 1\n",
    "        \n",
    "    if  i > 100 or mean < 0.05:\n",
    "        break\n",
    "        \n",
    "    i = i+ 1"
   ]
  },
  {
   "cell_type": "code",
   "execution_count": 148,
   "id": "7e1dc31a",
   "metadata": {},
   "outputs": [
    {
     "data": {
      "text/plain": [
       "[<matplotlib.lines.Line2D at 0x7fa849008e80>]"
      ]
     },
     "execution_count": 148,
     "metadata": {},
     "output_type": "execute_result"
    },
    {
     "data": {
      "image/png": "[encoded data removed]",
      "text/plain": [
       "<Figure size 432x288 with 1 Axes>"
      ]
     },
     "metadata": {
      "needs_background": "light"
     },
     "output_type": "display_data"
    }
   ],
   "source": [
    "import matplotlib.pyplot as plt\n",
    "\n",
    "plt.plot(meanXeques)"
   ]
  },
  {
   "cell_type": "code",
   "execution_count": 149,
   "id": "4c0b05d3",
   "metadata": {},
   "outputs": [
    {
     "data": {
      "text/plain": [
       "array([[5, 2, 6, 3, 0, 7, 1, 4],\n",
       "       [5, 2, 6, 3, 0, 7, 1, 4],\n",
       "       [5, 2, 6, 3, 0, 7, 1, 4]])"
      ]
     },
     "execution_count": 149,
     "metadata": {},
     "output_type": "execute_result"
    }
   ],
   "source": [
    "result[0:3]"
   ]
  },
  {
   "cell_type": "code",
   "execution_count": 150,
   "id": "bf7016e9",
   "metadata": {},
   "outputs": [
    {
     "data": {
      "text/plain": [
       "[0, 0, 0, 0, 0, 0, 0, 0, 0, 0, 0, 0]"
      ]
     },
     "execution_count": 150,
     "metadata": {},
     "output_type": "execute_result"
    }
   ],
   "source": [
    "casa.getXequesBySolution(result)"
   ]
  },
  {
   "cell_type": "code",
   "execution_count": 151,
   "id": "635fe86a",
   "metadata": {},
   "outputs": [
    {
     "name": "stdout",
     "output_type": "stream",
     "text": [
      "Solução\n",
      "_________________________________\n",
      "|   |   |   |   |   | Q |   |   |\n",
      "_________________________________\n",
      "|   |   | Q |   |   |   |   |   |\n",
      "_________________________________\n",
      "|   |   |   |   |   |   | Q |   |\n",
      "_________________________________\n",
      "|   |   |   | Q |   |   |   |   |\n",
      "_________________________________\n",
      "| Q |   |   |   |   |   |   |   |\n",
      "_________________________________\n",
      "|   |   |   |   |   |   |   | Q |\n",
      "_________________________________\n",
      "|   | Q |   |   |   |   |   |   |\n",
      "_________________________________\n",
      "|   |   |   |   | Q |   |   |   |\n",
      "_________________________________\n"
     ]
    }
   ],
   "source": [
    "printSolution(result[0])"
   ]
  },
  {
   "cell_type": "markdown",
   "id": "5b2c9fc4",
   "metadata": {},
   "source": [
    "## Tabuleiro de 20x20"
   ]
  },
  {
   "cell_type": "code",
   "execution_count": 162,
   "id": "af545b73",
   "metadata": {},
   "outputs": [],
   "source": [
    "meanXeques = []\n",
    "casa = N_Queens()\n",
    "\n",
    "pop = casa.init_population(12, 20)\n",
    "repeat = 0\n",
    "probMut = 0.8\n",
    "\n",
    "xeques, result=casa.evolutionaryAlgorith(np.array(pop),repeat, probMut)\n",
    "oldmean = round(np.array(xeques).mean(),1)\n",
    "i = 0\n",
    "\n",
    "\n",
    "while True:\n",
    "    [xeques, result]=casa.evolutionaryAlgorith(np.array(result), repeat, probMut)\n",
    "    mean = round(np.array(xeques).mean(),1)\n",
    "    meanXeques.append(mean)\n",
    "    \n",
    "    if oldmean != mean:\n",
    "        oldmean = mean\n",
    "        repeat = 0\n",
    "    else:\n",
    "        repeat = repeat + 1\n",
    "        \n",
    "    if  i > 500 or mean < 0.05:\n",
    "        break\n",
    "        \n",
    "    i = i+ 1"
   ]
  },
  {
   "cell_type": "code",
   "execution_count": 163,
   "id": "e2cef9fc",
   "metadata": {},
   "outputs": [
    {
     "data": {
      "text/plain": [
       "[<matplotlib.lines.Line2D at 0x7fa849434d00>]"
      ]
     },
     "execution_count": 163,
     "metadata": {},
     "output_type": "execute_result"
    },
    {
     "data": {
      "image/png": "[encoded data removed]",
      "text/plain": [
       "<Figure size 432x288 with 1 Axes>"
      ]
     },
     "metadata": {
      "needs_background": "light"
     },
     "output_type": "display_data"
    }
   ],
   "source": [
    "import matplotlib.pyplot as plt\n",
    "\n",
    "plt.plot(meanXeques)"
   ]
  },
  {
   "cell_type": "code",
   "execution_count": 164,
   "id": "e3a4fc10",
   "metadata": {},
   "outputs": [
    {
     "data": {
      "text/plain": [
       "[2, 2, 2, 2, 2, 2, 2, 2, 2, 2, 2, 2]"
      ]
     },
     "execution_count": 164,
     "metadata": {},
     "output_type": "execute_result"
    }
   ],
   "source": [
    "casa.getXequesBySolution(result)"
   ]
  },
  {
   "cell_type": "code",
   "execution_count": 165,
   "id": "f5ce9bac",
   "metadata": {},
   "outputs": [
    {
     "name": "stdout",
     "output_type": "stream",
     "text": [
      "Solução\n",
      "_________________________________________________________________________________\n",
      "|   |   |   |   |   |   |   |   |   |   |   | Q |   |   |   |   |   |   |   |   |\n",
      "_________________________________________________________________________________\n",
      "|   |   |   |   |   |   | Q |   |   |   |   |   |   |   |   |   |   |   |   |   |\n",
      "_________________________________________________________________________________\n",
      "|   |   |   |   | Q |   |   |   |   |   |   |   |   |   |   |   |   |   |   |   |\n",
      "_________________________________________________________________________________\n",
      "|   |   |   |   |   |   |   |   |   | Q |   |   |   |   |   |   |   |   |   |   |\n",
      "_________________________________________________________________________________\n",
      "|   |   |   |   |   | Q |   |   |   |   |   |   |   |   |   |   |   |   |   |   |\n",
      "_________________________________________________________________________________\n",
      "|   |   |   |   |   |   |   |   |   |   |   |   |   |   |   |   |   |   | Q |   |\n",
      "_________________________________________________________________________________\n",
      "|   |   |   |   |   |   |   |   |   |   |   |   |   |   | Q |   |   |   |   |   |\n",
      "_________________________________________________________________________________\n",
      "|   | Q |   |   |   |   |   |   |   |   |   |   |   |   |   |   |   |   |   |   |\n",
      "_________________________________________________________________________________\n",
      "|   |   |   |   |   |   |   |   |   |   |   |   |   |   |   |   |   | Q |   |   |\n",
      "_________________________________________________________________________________\n",
      "|   |   |   |   |   |   |   |   |   |   |   |   |   | Q |   |   |   |   |   |   |\n",
      "_________________________________________________________________________________\n",
      "|   |   |   | Q |   |   |   |   |   |   |   |   |   |   |   |   |   |   |   |   |\n",
      "_________________________________________________________________________________\n",
      "|   |   |   |   |   |   |   |   | Q |   |   |   |   |   |   |   |   |   |   |   |\n",
      "_________________________________________________________________________________\n",
      "|   |   |   |   |   |   |   |   |   |   |   |   |   |   |   |   |   |   |   | Q |\n",
      "_________________________________________________________________________________\n",
      "|   |   | Q |   |   |   |   |   |   |   |   |   |   |   |   |   |   |   |   |   |\n",
      "_________________________________________________________________________________\n",
      "|   |   |   |   |   |   |   |   |   |   |   |   | Q |   |   |   |   |   |   |   |\n",
      "_________________________________________________________________________________\n",
      "|   |   |   |   |   |   |   |   |   |   |   |   |   |   |   | Q |   |   |   |   |\n",
      "_________________________________________________________________________________\n",
      "| Q |   |   |   |   |   |   |   |   |   |   |   |   |   |   |   |   |   |   |   |\n",
      "_________________________________________________________________________________\n",
      "|   |   |   |   |   |   |   | Q |   |   |   |   |   |   |   |   |   |   |   |   |\n",
      "_________________________________________________________________________________\n",
      "|   |   |   |   |   |   |   |   |   |   |   |   |   |   |   |   | Q |   |   |   |\n",
      "_________________________________________________________________________________\n",
      "|   |   |   |   |   |   |   |   |   |   | Q |   |   |   |   |   |   |   |   |   |\n",
      "_________________________________________________________________________________\n"
     ]
    }
   ],
   "source": [
    "printSolution(result[0])"
   ]
  },
  {
   "cell_type": "markdown",
   "id": "adc1714b",
   "metadata": {},
   "source": [
    "## Tabuleiro de 50x50"
   ]
  },
  {
   "cell_type": "code",
   "execution_count": 166,
   "id": "346ed0df",
   "metadata": {},
   "outputs": [],
   "source": [
    "meanXeques = []\n",
    "casa = N_Queens()\n",
    "\n",
    "pop = casa.init_population(12, 50)\n",
    "repeat = 0\n",
    "probMut = 0.8\n",
    "\n",
    "xeques, result=casa.evolutionaryAlgorith(np.array(pop),repeat, probMut)\n",
    "oldmean = round(np.array(xeques).mean(),1)\n",
    "i = 0\n",
    "\n",
    "\n",
    "while True:\n",
    "    [xeques, result]=casa.evolutionaryAlgorith(np.array(result), repeat, probMut)\n",
    "    mean = round(np.array(xeques).mean(),1)\n",
    "    meanXeques.append(mean)\n",
    "    \n",
    "    if oldmean != mean:\n",
    "        oldmean = mean\n",
    "        repeat = 0\n",
    "    else:\n",
    "        repeat = repeat + 1\n",
    "        \n",
    "    if  i > 500 or mean < 0.05:\n",
    "        break\n",
    "        \n",
    "    i = i+ 1"
   ]
  },
  {
   "cell_type": "code",
   "execution_count": 167,
   "id": "62ba8546",
   "metadata": {},
   "outputs": [
    {
     "data": {
      "text/plain": [
       "[10, 10, 10, 10, 10, 10, 10, 10, 10, 10, 10, 10]"
      ]
     },
     "execution_count": 167,
     "metadata": {},
     "output_type": "execute_result"
    }
   ],
   "source": [
    "casa.getXequesBySolution(result)"
   ]
  },
  {
   "cell_type": "code",
   "execution_count": 168,
   "id": "ccf9f128",
   "metadata": {},
   "outputs": [
    {
     "data": {
      "text/plain": [
       "[<matplotlib.lines.Line2D at 0x7fa8491101c0>]"
      ]
     },
     "execution_count": 168,
     "metadata": {},
     "output_type": "execute_result"
    },
    {
     "data": {
      "image/png": "[encoded data removed]",
      "text/plain": [
       "<Figure size 432x288 with 1 Axes>"
      ]
     },
     "metadata": {
      "needs_background": "light"
     },
     "output_type": "display_data"
    }
   ],
   "source": [
    "plt.plot(meanXeques)"
   ]
  },
  {
   "cell_type": "code",
   "execution_count": 36,
   "id": "9fb22c46",
   "metadata": {},
   "outputs": [],
   "source": [
    "# printSolution(result[0])"
   ]
  },
  {
   "cell_type": "markdown",
   "id": "4f5295d6",
   "metadata": {},
   "source": [
    "## Considerações finais\n",
    "Como foi observado nos gráficos, quanto maior o valor da dimensão do tabuleiro, mais dificil fica a questão da\n",
    "solução do problema do remanejamento das raizes no tabuleiro. No caso de um tabuleiro com com 50 posições, o minimo\n",
    "de xeque passou de um valor de 70 para 12. Portanto, o objetivo do trabalho foi alcançado com sucesso."
   ]
  }
 ],
 "metadata": {
  "kernelspec": {
   "display_name": "Python 3 (ipykernel)",
   "language": "python",
   "name": "python3"
  },
  "language_info": {
   "codemirror_mode": {
    "name": "ipython",
    "version": 3
   },
   "file_extension": ".py",
   "mimetype": "text/x-python",
   "name": "python",
   "nbconvert_exporter": "python",
   "pygments_lexer": "ipython3",
   "version": "3.8.8"
  }
 },
 "nbformat": 4,
 "nbformat_minor": 5
}
